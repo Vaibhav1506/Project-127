{
  "nbformat": 4,
  "nbformat_minor": 0,
  "metadata": {
    "colab": {
      "name": "Project127.ipynb",
      "provenance": []
    },
    "kernelspec": {
      "name": "python3",
      "display_name": "Python 3"
    },
    "language_info": {
      "name": "python"
    }
  },
  "cells": [
    {
      "cell_type": "code",
      "execution_count": 4,
      "metadata": {
        "colab": {
          "base_uri": "https://localhost:8080/"
        },
        "id": "kRY_kceTVrkI",
        "outputId": "c3c40998-b19d-463b-9e62-5e9df8942b5a"
      },
      "outputs": [
        {
          "output_type": "stream",
          "name": "stdout",
          "text": [
            "<Response [200]>\n",
            "           Star_Name         Distance   Mass         Radius\n",
            "0                Sun      0.000015813      1              1\n",
            "1             Sirius           0008.6    2.1           1.71\n",
            "2            Canopus             0310     15             71\n",
            "3     Alpha Centauri           0004.4    1.1            1.2\n",
            "4           Arcturus             0037    1.1             26\n",
            "..               ...              ...    ...            ...\n",
            "92           WOH G64         0163,000    <20  1,540 - 1,730\n",
            "93        TRAPPIST-1            039.6  0.089           0.12\n",
            "94  2MASS J0523-1403            040.3   0.07          0.086\n",
            "95    WISE 0855−0714            07.27  0.003              ?\n",
            "96            Icarus  014,400,000,000     33              ?\n",
            "\n",
            "[97 rows x 4 columns]\n"
          ]
        }
      ],
      "source": [
        "import pandas as pd\n",
        "import numpy as np\n",
        "import csv\n",
        "import requests\n",
        "\n",
        "from bs4 import BeautifulSoup as bs\n",
        "\n",
        "link_url = \"https://en.wikipedia.org/wiki/List_of_brightest_stars_and_other_record_stars\"\n",
        "link_data = requests.get(link_url)\n",
        "\n",
        "print(link_data)\n",
        "\n",
        "soup = bs(link_data.text, \"html.parser\")\n",
        "\n",
        "link_table = soup.find(\"table\")\n",
        "\n",
        "temp_list = []\n",
        "\n",
        "table_rows = link_table.find_all(\"tr\")\n",
        "\n",
        "for tr in table_rows:\n",
        "  td = tr.find_all(\"td\")\n",
        "  row = [i.text.rstrip() for i in td]\n",
        "  temp_list.append(row)\n",
        "  \n",
        "Name = []\n",
        "Distance = []\n",
        "Mass = []\n",
        "Radius = []\n",
        "\n",
        "for i in range(1, len(temp_list)):\n",
        "  Name.append(temp_list[i][1])\n",
        "  Distance.append(temp_list[i][3])\n",
        "  Mass.append(temp_list[i][5])\n",
        "  Radius.append(temp_list[i][6])\n",
        "  \n",
        "df = pd.DataFrame(list(zip(Name, Distance, Mass, Radius)), columns = [\"Star_Name\", \"Distance\", \"Mass\", \"Radius\"])\n",
        "print(df)\n",
        "\n",
        "df.to_csv(\"link_data\")"
      ]
    }
  ]
}